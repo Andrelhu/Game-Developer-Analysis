{
 "cells": [
  {
   "cell_type": "code",
   "execution_count": 79,
   "metadata": {},
   "outputs": [],
   "source": [
    "import pandas as pd\n",
    "import numpy as np\n",
    "import matplotlib.pyplot as plt\n",
    "import matplotlib.colors as colors\n",
    "import matplotlib.cm as cmx\n",
    "import seaborn as sns\n",
    "import operator\n",
    "import re\n",
    "import calendar\n",
    "from collections import Counter\n",
    "%matplotlib inline\n",
    "from pylab import rcParams\n",
    "rcParams['figure.figsize'] = 12,7\n",
    "plt.rc('font', size=11)          # controls default text sizes\n",
    "plt.rc('axes', titlesize=16)     # fontsize of the axes title\n",
    "plt.rc('axes', labelsize=14)    # fontsize of the x and y labels\n",
    "plt.rc('xtick', labelsize=11)    # fontsize of the tick labels\n",
    "plt.rc('ytick', labelsize=11)    # fontsize of the tick labels\n",
    "plt.rc('legend', fontsize=11)    # legend fontsize\n",
    "plt.rc('figure', titlesize=14)  # fontsize of the figure title"
   ]
  },
  {
   "cell_type": "code",
   "execution_count": 2,
   "metadata": {},
   "outputs": [],
   "source": [
    "data = pd.read_pickle('master_VGC22')"
   ]
  },
  {
   "cell_type": "code",
   "execution_count": 73,
   "metadata": {},
   "outputs": [
    {
     "data": {
      "text/html": [
       "<div>\n",
       "<style scoped>\n",
       "    .dataframe tbody tr th:only-of-type {\n",
       "        vertical-align: middle;\n",
       "    }\n",
       "\n",
       "    .dataframe tbody tr th {\n",
       "        vertical-align: top;\n",
       "    }\n",
       "\n",
       "    .dataframe thead th {\n",
       "        text-align: right;\n",
       "    }\n",
       "</style>\n",
       "<table border=\"1\" class=\"dataframe\">\n",
       "  <thead>\n",
       "    <tr style=\"text-align: right;\">\n",
       "      <th></th>\n",
       "      <th>Console</th>\n",
       "      <th>CriticScore</th>\n",
       "      <th>Date</th>\n",
       "      <th>Developer</th>\n",
       "      <th>Game</th>\n",
       "      <th>Id</th>\n",
       "      <th>JAP</th>\n",
       "      <th>NA</th>\n",
       "      <th>Other</th>\n",
       "      <th>PAL</th>\n",
       "      <th>Publisher</th>\n",
       "      <th>Total</th>\n",
       "      <th>UserScore</th>\n",
       "      <th>VGCScore</th>\n",
       "      <th>Day</th>\n",
       "      <th>Month</th>\n",
       "      <th>Year</th>\n",
       "    </tr>\n",
       "  </thead>\n",
       "  <tbody>\n",
       "    <tr>\n",
       "      <th>0</th>\n",
       "      <td>Wii</td>\n",
       "      <td>NAN</td>\n",
       "      <td>19th Nov 06</td>\n",
       "      <td>Nintendo EAD</td>\n",
       "      <td>Wii Sports</td>\n",
       "      <td>1</td>\n",
       "      <td>29.02</td>\n",
       "      <td>82.65</td>\n",
       "      <td>3.77</td>\n",
       "      <td>41.36</td>\n",
       "      <td>Nintendo</td>\n",
       "      <td>NAN</td>\n",
       "      <td>7.7</td>\n",
       "      <td>NAN</td>\n",
       "      <td>19</td>\n",
       "      <td>11</td>\n",
       "      <td>2006</td>\n",
       "    </tr>\n",
       "    <tr>\n",
       "      <th>1</th>\n",
       "      <td>NES</td>\n",
       "      <td>NAN</td>\n",
       "      <td>18th Oct 85</td>\n",
       "      <td>Nintendo EAD</td>\n",
       "      <td>Super Mario Bros.</td>\n",
       "      <td>2</td>\n",
       "      <td>3.58</td>\n",
       "      <td>40.24</td>\n",
       "      <td>6.81</td>\n",
       "      <td>29.08</td>\n",
       "      <td>Nintendo</td>\n",
       "      <td>NAN</td>\n",
       "      <td>10</td>\n",
       "      <td>NAN</td>\n",
       "      <td>18</td>\n",
       "      <td>10</td>\n",
       "      <td>1985</td>\n",
       "    </tr>\n",
       "    <tr>\n",
       "      <th>2</th>\n",
       "      <td>Wii</td>\n",
       "      <td>8.7</td>\n",
       "      <td>27th Apr 08</td>\n",
       "      <td>Nintendo EAD</td>\n",
       "      <td>Mario Kart Wii</td>\n",
       "      <td>3</td>\n",
       "      <td>12.92</td>\n",
       "      <td>35.9</td>\n",
       "      <td>3.8</td>\n",
       "      <td>15.84</td>\n",
       "      <td>Nintendo</td>\n",
       "      <td>9.1</td>\n",
       "      <td>8.2</td>\n",
       "      <td>NAN</td>\n",
       "      <td>27</td>\n",
       "      <td>4</td>\n",
       "      <td>2008</td>\n",
       "    </tr>\n",
       "    <tr>\n",
       "      <th>3</th>\n",
       "      <td>Wii</td>\n",
       "      <td>8.8</td>\n",
       "      <td>26th Jul 09</td>\n",
       "      <td>Nintendo EAD</td>\n",
       "      <td>Wii Sports Resort</td>\n",
       "      <td>4</td>\n",
       "      <td>10.98</td>\n",
       "      <td>32.9</td>\n",
       "      <td>3.29</td>\n",
       "      <td>15.61</td>\n",
       "      <td>Nintendo</td>\n",
       "      <td>8.8</td>\n",
       "      <td>8</td>\n",
       "      <td>NAN</td>\n",
       "      <td>26</td>\n",
       "      <td>7</td>\n",
       "      <td>2009</td>\n",
       "    </tr>\n",
       "    <tr>\n",
       "      <th>4</th>\n",
       "      <td>GB</td>\n",
       "      <td>NAN</td>\n",
       "      <td>30th Sep 98</td>\n",
       "      <td>Game Freak</td>\n",
       "      <td>Pok�mon Red / Green / Blue Version</td>\n",
       "      <td>5</td>\n",
       "      <td>8.89</td>\n",
       "      <td>31.37</td>\n",
       "      <td>10.22</td>\n",
       "      <td>11.27</td>\n",
       "      <td>Nintendo</td>\n",
       "      <td>NAN</td>\n",
       "      <td>9.4</td>\n",
       "      <td>NAN</td>\n",
       "      <td>30</td>\n",
       "      <td>9</td>\n",
       "      <td>1998</td>\n",
       "    </tr>\n",
       "  </tbody>\n",
       "</table>\n",
       "</div>"
      ],
      "text/plain": [
       "  Console CriticScore           Date       Developer  \\\n",
       "0     Wii         NAN  19th Nov 06    Nintendo EAD     \n",
       "1     NES         NAN  18th Oct 85    Nintendo EAD     \n",
       "2     Wii         8.7  27th Apr 08    Nintendo EAD     \n",
       "3     Wii         8.8  26th Jul 09    Nintendo EAD     \n",
       "4      GB         NAN  30th Sep 98      Game Freak     \n",
       "\n",
       "                                     Game  Id    JAP     NA  Other    PAL  \\\n",
       "0                          Wii Sports       1  29.02  82.65   3.77  41.36   \n",
       "1                   Super Mario Bros.       2   3.58  40.24   6.81  29.08   \n",
       "2                      Mario Kart Wii       3  12.92   35.9    3.8  15.84   \n",
       "3                   Wii Sports Resort       4  10.98   32.9   3.29  15.61   \n",
       "4  Pok�mon Red / Green / Blue Version       5   8.89  31.37  10.22  11.27   \n",
       "\n",
       "    Publisher Total UserScore VGCScore Day Month  Year  \n",
       "0  Nintendo     NAN       7.7      NAN  19    11  2006  \n",
       "1  Nintendo     NAN        10      NAN  18    10  1985  \n",
       "2  Nintendo     9.1       8.2      NAN  27     4  2008  \n",
       "3  Nintendo     8.8         8      NAN  26     7  2009  \n",
       "4  Nintendo     NAN       9.4      NAN  30     9  1998  "
      ]
     },
     "execution_count": 73,
     "metadata": {},
     "output_type": "execute_result"
    }
   ],
   "source": [
    "data.head()"
   ]
  },
  {
   "cell_type": "code",
   "execution_count": 40,
   "metadata": {},
   "outputs": [],
   "source": [
    "def clean_date(date):\n",
    "    try:\n",
    "        dmy = re.split(' ',date)\n",
    "        d = int(dmy[0][:-2])\n",
    "        nametonum = {v: k for k,v in enumerate(calendar.month_abbr)}\n",
    "        m = nametonum[dmy[1]]\n",
    "        if dmy[2][0] == '0':\n",
    "            y = int('20'+dmy[2])\n",
    "        else:\n",
    "            y = int('19'+dmy[2])\n",
    "        return d,m,y\n",
    "    except:\n",
    "        return None,None,None\n",
    "cdate = [clean_date(date) for date in list(data.Date)]\n",
    "data['Day'],data['Month'],data['Year']=zip(*cdate)"
   ]
  },
  {
   "cell_type": "code",
   "execution_count": 68,
   "metadata": {},
   "outputs": [],
   "source": [
    "iiigen = data[data.Year < 1989]\n",
    "iiigen = iiigen[iiigen.Year > 1983]"
   ]
  },
  {
   "cell_type": "code",
   "execution_count": 69,
   "metadata": {
    "scrolled": false
   },
   "outputs": [],
   "source": [
    "cons = ['5200',\n",
    " '7800',\n",
    " 'ACPC',\n",
    " 'AST',\n",
    " 'Aco',\n",
    " 'Amig',\n",
    " 'Arc',\n",
    " 'BBCM',\n",
    " 'BRW',\n",
    " 'C128',\n",
    " 'C64',\n",
    " 'MS',\n",
    " 'MSX',\n",
    " 'NES',\n",
    " 'PCE',\n",
    " 'TG16',\n",
    " 'ZXS']"
   ]
  },
  {
   "cell_type": "code",
   "execution_count": 70,
   "metadata": {},
   "outputs": [],
   "source": [
    "iiigen = iiigen[iiigen.Console.isin(cons)]"
   ]
  },
  {
   "cell_type": "code",
   "execution_count": 84,
   "metadata": {
    "scrolled": false
   },
   "outputs": [
    {
     "name": "stdout",
     "output_type": "stream",
     "text": [
      "1986 1988\n",
      "1984 1984\n",
      "1985 1988\n",
      "1987 1987\n",
      "1986 1988\n",
      "1985 1988\n",
      "1984 1984\n",
      "1984 1988\n",
      "1984 1987\n",
      "1985 1985\n",
      "1985 1987\n",
      "1985 1988\n",
      "1984 1988\n",
      "1984 1988\n",
      "1984 1988\n",
      "1987 1988\n"
     ]
    }
   ],
   "source": [
    "devs_in_time = {}\n",
    "for c in set(iiigen.Console):\n",
    "    devs_in_time[c] = []    \n",
    "    consdf = iiigen[iiigen.Console == c]\n",
    "    mint = min(consdf.Year)\n",
    "    maxt = max(consdf.Year)\n",
    "    print mint, maxt\n",
    "    devs_in_time[c] = [len(set(consdf[consdf.Year == y].Developer)) for y in range(1983,1989)]\n",
    "        \n",
    "        "
   ]
  },
  {
   "cell_type": "code",
   "execution_count": 85,
   "metadata": {},
   "outputs": [
    {
     "data": {
      "image/png": "[encoded data removed]",
      "text/plain": [
       "<matplotlib.figure.Figure at 0xeab6400>"
      ]
     },
     "metadata": {},
     "output_type": "display_data"
    }
   ],
   "source": [
    "for i in devs_in_time.keys():\n",
    "    plt.plot(devs_in_time[i],label=i)\n",
    "plt.legend(loc=2)\n",
    "plt.show()\n",
    "    "
   ]
  },
  {
   "cell_type": "code",
   "execution_count": 86,
   "metadata": {},
   "outputs": [],
   "source": [
    "nes = iiigen[iiigen.Console == 'NES']"
   ]
  },
  {
   "cell_type": "code",
   "execution_count": 94,
   "metadata": {},
   "outputs": [],
   "source": [
    "nesdev = pd.DataFrame.from_dict(Counter(nes.Developer),orient='index')#,index=range(len(set(nes.Developer))))"
   ]
  },
  {
   "cell_type": "code",
   "execution_count": 101,
   "metadata": {},
   "outputs": [],
   "source": [
    "nesdev = nesdev.sort_values(by=0,ascending=False)"
   ]
  },
  {
   "cell_type": "code",
   "execution_count": 104,
   "metadata": {},
   "outputs": [
    {
     "data": {
      "image/png": "[encoded data removed]",
      "text/plain": [
       "<matplotlib.figure.Figure at 0xe9f9198>"
      ]
     },
     "metadata": {},
     "output_type": "display_data"
    }
   ],
   "source": [
    "plt.plot(list(nesdev[0]))\n",
    "plt.show()"
   ]
  },
  {
   "cell_type": "code",
   "execution_count": null,
   "metadata": {},
   "outputs": [],
   "source": []
  }
 ],
 "metadata": {
  "kernelspec": {
   "display_name": "Python 2",
   "language": "python",
   "name": "python2"
  },
  "language_info": {
   "codemirror_mode": {
    "name": "ipython",
    "version": 2
   },
   "file_extension": ".py",
   "mimetype": "text/x-python",
   "name": "python",
   "nbconvert_exporter": "python",
   "pygments_lexer": "ipython2",
   "version": "2.7.14"
  }
 },
 "nbformat": 4,
 "nbformat_minor": 2
}
